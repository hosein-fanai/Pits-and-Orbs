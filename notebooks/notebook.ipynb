{
 "cells": [
  {
   "cell_type": "markdown",
   "metadata": {},
   "source": [
    "# PitsAndOrbs Project"
   ]
  },
  {
   "cell_type": "code",
   "execution_count": 1,
   "metadata": {},
   "outputs": [],
   "source": [
    "%%capture\n",
    "%cd ../"
   ]
  },
  {
   "cell_type": "markdown",
   "metadata": {},
   "source": [
    "## Checking the raw Game"
   ]
  },
  {
   "cell_type": "code",
   "execution_count": 2,
   "metadata": {},
   "outputs": [
    {
     "name": "stdout",
     "output_type": "stream",
     "text": [
      "pygame 2.4.0 (SDL 2.26.4, Python 3.10.10)\n",
      "Hello from the pygame community. https://www.pygame.org/contribute.html\n",
      "[[0 0 0 0 0]\n",
      " [0 0 0 0 0]\n",
      " [0 0 0 0 0]\n",
      " [3 0 2 0 0]\n",
      " [0 1 3 0 0]]\n",
      "\n",
      "{'all_pits#': 5, 'total_filled_pits#': 0, 'team0_filled_pits#': 0, 'team0_player0_movements#': 0}\n",
      "\n",
      "Directions: ['0.west', '1.north', '2.east', '3.south']\n",
      "Cell Types: ['0.nothing', '1.player', '2.orb', '3.pit', '4.player&orb', '5.player&pit', '6.orb&pit', '7.player&orb&pit']\n",
      "Actions: ['0.turn right', '1.move forward', '2.pick orb up', '3.put orb down', '4.throw orb away']\n",
      "\n"
     ]
    }
   ],
   "source": [
    "from game.pits_and_orbs import PitsAndOrbs\n",
    "\n",
    "\n",
    "game = PitsAndOrbs()\n",
    "game.reset_game()\n",
    "\n",
    "game.render_game()"
   ]
  },
  {
   "cell_type": "code",
   "execution_count": 3,
   "metadata": {},
   "outputs": [
    {
     "data": {
      "text/plain": [
       "array([[0, 0, 0, 0, 0],\n",
       "       [0, 0, 0, 0, 0],\n",
       "       [0, 0, 0, 0, 0],\n",
       "       [3, 0, 2, 0, 0],\n",
       "       [0, 1, 3, 0, 0]], dtype=uint8)"
      ]
     },
     "execution_count": 3,
     "metadata": {},
     "output_type": "execute_result"
    }
   ],
   "source": [
    "game._get_observation()"
   ]
  },
  {
   "cell_type": "code",
   "execution_count": 4,
   "metadata": {},
   "outputs": [
    {
     "data": {
      "text/plain": [
       "{'all_pits#': 5,\n",
       " 'total_filled_pits#': 0,\n",
       " 'team0_filled_pits#': 0,\n",
       " 'team0_player0_movements#': 0}"
      ]
     },
     "execution_count": 4,
     "metadata": {},
     "output_type": "execute_result"
    }
   ],
   "source": [
    "game._get_info()"
   ]
  },
  {
   "cell_type": "code",
   "execution_count": 5,
   "metadata": {},
   "outputs": [
    {
     "data": {
      "text/plain": [
       "(array([[0, 0, 0, 0, 0],\n",
       "        [0, 0, 0, 0, 0],\n",
       "        [3, 0, 0, 0, 0],\n",
       "        [3, 1, 2, 0, 0],\n",
       "        [0, 0, 3, 0, 0]], dtype=uint8),\n",
       " 0.0,\n",
       " False,\n",
       " {'all_pits#': 5,\n",
       "  'total_filled_pits#': 0,\n",
       "  'team0_filled_pits#': 0,\n",
       "  'team0_player0_movements#': 1})"
      ]
     },
     "execution_count": 5,
     "metadata": {},
     "output_type": "execute_result"
    }
   ],
   "source": [
    "game.step_game(1)"
   ]
  },
  {
   "cell_type": "code",
   "execution_count": 6,
   "metadata": {},
   "outputs": [
    {
     "name": "stdout",
     "output_type": "stream",
     "text": [
      "[[0 0 0 0 0]\n",
      " [0 0 0 0 0]\n",
      " [3 0 0 0 0]\n",
      " [3 1 2 0 0]\n",
      " [0 0 3 0 0]]\n",
      "\n",
      "{'all_pits#': 5, 'total_filled_pits#': 0, 'team0_filled_pits#': 0, 'team0_player0_movements#': 1}\n",
      "\n",
      "Directions: ['0.west', '1.north', '2.east', '3.south']\n",
      "Cell Types: ['0.nothing', '1.player', '2.orb', '3.pit', '4.player&orb', '5.player&pit', '6.orb&pit', '7.player&orb&pit']\n",
      "Actions: ['0.turn right', '1.move forward', '2.pick orb up', '3.put orb down', '4.throw orb away']\n",
      "\n"
     ]
    }
   ],
   "source": [
    "game.render_game()"
   ]
  },
  {
   "cell_type": "markdown",
   "metadata": {},
   "source": [
    "## Checking the gym Environment"
   ]
  },
  {
   "cell_type": "code",
   "execution_count": 7,
   "metadata": {},
   "outputs": [
    {
     "data": {
      "text/plain": [
       "OrderedDict([('board',\n",
       "              array([[0, 0, 0, 0, 0],\n",
       "                     [0, 1, 3, 3, 1],\n",
       "                     [2, 0, 2, 0, 0],\n",
       "                     [0, 0, 0, 0, 0],\n",
       "                     [0, 0, 0, 0, 0]], dtype=uint8)),\n",
       "             ('player0_movements', 0),\n",
       "             ('player1_movements', 0),\n",
       "             ('player0_direction', 0),\n",
       "             ('player1_direction', 3),\n",
       "             ('player0_has_orb', 0),\n",
       "             ('player1_has_orb', 0),\n",
       "             ('player0_position', array([1, 4], dtype=uint8)),\n",
       "             ('player1_position', array([1, 1], dtype=uint8)),\n",
       "             ('player_turn', 0)])"
      ]
     },
     "execution_count": 7,
     "metadata": {},
     "output_type": "execute_result"
    }
   ],
   "source": [
    "from environment.pits_and_orbs_env import PitsAndOrbsEnv\n",
    "\n",
    "\n",
    "env = PitsAndOrbsEnv(player_num=2)\n",
    "obs = env.reset()\n",
    "obs"
   ]
  },
  {
   "cell_type": "code",
   "execution_count": 8,
   "metadata": {},
   "outputs": [
    {
     "data": {
      "text/plain": [
       "OrderedDict([('board',\n",
       "              array([[4, 3, 1, 6, 5],\n",
       "                     [0, 0, 5, 2, 0],\n",
       "                     [1, 5, 7, 3, 6],\n",
       "                     [1, 1, 4, 1, 0],\n",
       "                     [1, 2, 1, 3, 6]], dtype=uint8)),\n",
       "             ('player0_direction', 3),\n",
       "             ('player0_has_orb', 0),\n",
       "             ('player0_movements', 1),\n",
       "             ('player0_position', array([3, 2], dtype=uint8)),\n",
       "             ('player1_direction', 2),\n",
       "             ('player1_has_orb', 0),\n",
       "             ('player1_movements', 27),\n",
       "             ('player1_position', array([4, 3], dtype=uint8)),\n",
       "             ('player_turn', 1)])"
      ]
     },
     "execution_count": 8,
     "metadata": {},
     "output_type": "execute_result"
    }
   ],
   "source": [
    "env.observation_space.sample()"
   ]
  },
  {
   "cell_type": "code",
   "execution_count": 9,
   "metadata": {},
   "outputs": [
    {
     "data": {
      "text/plain": [
       "(OrderedDict([('board',\n",
       "               array([[0, 0, 0, 0, 0],\n",
       "                      [0, 1, 3, 3, 1],\n",
       "                      [2, 0, 2, 0, 0],\n",
       "                      [0, 0, 0, 0, 0],\n",
       "                      [0, 0, 0, 0, 0]], dtype=uint8)),\n",
       "              ('player0_movements', 0),\n",
       "              ('player1_movements', 0),\n",
       "              ('player0_direction', 1),\n",
       "              ('player1_direction', 3),\n",
       "              ('player0_has_orb', 0),\n",
       "              ('player1_has_orb', 0),\n",
       "              ('player0_position', array([1, 4], dtype=uint8)),\n",
       "              ('player1_position', array([1, 1], dtype=uint8)),\n",
       "              ('player_turn', 0)]),\n",
       " 0.0,\n",
       " False,\n",
       " {'all_pits#': 5,\n",
       "  'total_filled_pits#': 0,\n",
       "  'team0_filled_pits#': 0,\n",
       "  'team0_player0_movements#': 0,\n",
       "  'team0_player1_movements#': 0})"
      ]
     },
     "execution_count": 9,
     "metadata": {},
     "output_type": "execute_result"
    }
   ],
   "source": [
    "env.step(0)"
   ]
  },
  {
   "cell_type": "markdown",
   "metadata": {},
   "source": [
    "## Checking the gym Environment Wrapper"
   ]
  },
  {
   "cell_type": "code",
   "execution_count": 10,
   "metadata": {},
   "outputs": [
    {
     "data": {
      "text/plain": [
       "OrderedDict([('board',\n",
       "              array([[[1, 0, 0, 0, 0, 0, 0, 0],\n",
       "                      [1, 0, 0, 0, 0, 0, 0, 0],\n",
       "                      [1, 0, 0, 0, 0, 0, 0, 0],\n",
       "                      [1, 0, 0, 0, 0, 0, 0, 0],\n",
       "                      [1, 0, 0, 0, 0, 0, 0, 0]],\n",
       "              \n",
       "                     [[1, 0, 0, 0, 0, 0, 0, 0],\n",
       "                      [1, 0, 0, 0, 0, 0, 0, 0],\n",
       "                      [1, 0, 0, 0, 0, 0, 0, 0],\n",
       "                      [1, 0, 0, 0, 0, 0, 0, 0],\n",
       "                      [1, 0, 0, 0, 0, 0, 0, 0]],\n",
       "              \n",
       "                     [[0, 0, 1, 0, 0, 0, 0, 0],\n",
       "                      [0, 0, 1, 0, 0, 0, 0, 0],\n",
       "                      [1, 0, 0, 0, 0, 0, 0, 0],\n",
       "                      [1, 0, 0, 0, 0, 0, 0, 0],\n",
       "                      [1, 0, 0, 0, 0, 0, 0, 0]],\n",
       "              \n",
       "                     [[1, 0, 0, 0, 0, 0, 0, 0],\n",
       "                      [0, 1, 0, 0, 0, 0, 0, 0],\n",
       "                      [1, 0, 0, 0, 0, 0, 0, 0],\n",
       "                      [1, 0, 0, 0, 0, 0, 0, 0],\n",
       "                      [1, 0, 0, 0, 0, 0, 0, 0]],\n",
       "              \n",
       "                     [[1, 0, 0, 0, 0, 0, 0, 0],\n",
       "                      [0, 0, 0, 1, 0, 0, 0, 0],\n",
       "                      [0, 0, 0, 1, 0, 0, 0, 0],\n",
       "                      [1, 0, 0, 0, 0, 0, 0, 0],\n",
       "                      [1, 0, 0, 0, 0, 0, 0, 0]]], dtype=uint8)),\n",
       "             ('player0_movements',\n",
       "              array([1, 0, 0, 0, 0, 0, 0, 0, 0, 0, 0, 0, 0, 0, 0, 0, 0, 0, 0, 0, 0, 0,\n",
       "                     0, 0, 0, 0, 0, 0, 0, 0, 0], dtype=uint8)),\n",
       "             ('player0_direction', array([1, 0, 0, 0], dtype=uint8)),\n",
       "             ('player0_has_orb', array([0], dtype=uint8))])"
      ]
     },
     "execution_count": 10,
     "metadata": {},
     "output_type": "execute_result"
    }
   ],
   "source": [
    "from environment.pits_and_orbs_env import PitsAndOrbsEnv\n",
    "\n",
    "from wrappers.onehot_observation import OnehotObservation\n",
    "\n",
    "\n",
    "env = OnehotObservation(PitsAndOrbsEnv())\n",
    "env.reset()"
   ]
  },
  {
   "cell_type": "markdown",
   "metadata": {},
   "source": [
    "## Implementing Reinforcement Learning Approach"
   ]
  },
  {
   "cell_type": "code",
   "execution_count": 11,
   "metadata": {},
   "outputs": [],
   "source": [
    "from stable_baselines3.common.env_util import make_vec_env\n",
    "from stable_baselines3 import A2C\n",
    "\n",
    "from utils import make_env"
   ]
  },
  {
   "cell_type": "code",
   "execution_count": 13,
   "metadata": {},
   "outputs": [],
   "source": [
    "env = make_env(size=7, player_num=2)\n",
    "obs = env.reset()"
   ]
  },
  {
   "cell_type": "code",
   "execution_count": 14,
   "metadata": {},
   "outputs": [
    {
     "data": {
      "text/plain": [
       "(array([1., 0., 0., 0., 0., 0., 0., 0., 1., 0., 0., 0., 0., 0., 0., 0., 1.,\n",
       "        0., 0., 0., 0., 0., 0., 0., 1., 0., 0., 0., 0., 0., 0., 0., 1., 0.,\n",
       "        0., 0., 0., 0., 0., 0., 1., 0., 0., 0., 0., 0., 0., 0., 1., 0., 0.,\n",
       "        0., 0., 0., 0., 0., 1., 0., 0., 0., 0., 0., 0., 0., 1., 0., 0., 0.,\n",
       "        0., 0., 0., 0., 1., 0., 0., 0., 0., 0., 0., 0., 1., 0., 0., 0., 0.,\n",
       "        0., 0., 0., 1., 0., 0., 0., 0., 0., 0., 0., 1., 0., 0., 0., 0., 0.,\n",
       "        0., 0., 1., 0., 0., 0., 0., 0., 0., 0., 1., 0., 0., 0., 0., 0., 0.,\n",
       "        0., 1., 0., 0., 0., 0., 0., 0., 0., 1., 0., 0., 0., 0., 0., 0., 0.,\n",
       "        1., 0., 0., 0., 0., 0., 0., 0., 0., 0., 1., 0., 0., 0., 0., 0., 1.,\n",
       "        0., 0., 0., 0., 0., 0., 0., 1., 0., 0., 0., 0., 0., 0., 0., 1., 0.,\n",
       "        0., 0., 0., 0., 0., 0., 1., 0., 0., 0., 0., 0., 0., 0., 1., 0., 0.,\n",
       "        0., 0., 0., 0., 0., 1., 0., 0., 0., 0., 0., 0., 0., 1., 0., 0., 0.,\n",
       "        0., 0., 0., 0., 0., 1., 0., 0., 0., 0., 0., 0., 1., 0., 0., 0., 0.,\n",
       "        0., 0., 0., 1., 0., 0., 0., 0., 0., 0., 0., 1., 0., 0., 0., 0., 0.,\n",
       "        0., 0., 1., 0., 0., 0., 0., 0., 0., 0., 1., 0., 0., 0., 0., 0., 0.,\n",
       "        0., 1., 0., 0., 0., 0., 0., 0., 0., 0., 0., 1., 0., 0., 0., 0., 0.,\n",
       "        1., 0., 0., 0., 0., 0., 0., 0., 1., 0., 0., 0., 0., 0., 0., 0., 1.,\n",
       "        0., 0., 0., 0., 0., 0., 0., 0., 0., 1., 0., 0., 0., 0., 0., 1., 0.,\n",
       "        0., 0., 0., 0., 0., 0., 1., 0., 0., 0., 0., 0., 0., 0., 1., 0., 0.,\n",
       "        0., 0., 0., 0., 0., 1., 0., 0., 0., 0., 0., 0., 0., 1., 0., 0., 0.,\n",
       "        0., 0., 0., 0., 0., 1., 0., 0., 0., 0., 0., 0., 1., 0., 0., 0., 0.,\n",
       "        0., 0., 0., 1., 0., 0., 0., 0., 0., 0., 0., 1., 0., 0., 0., 0., 0.,\n",
       "        0., 0., 1., 0., 0., 0., 0., 0., 0., 0., 1., 0., 0., 0., 0., 0., 0.,\n",
       "        0., 0., 0., 0., 0., 0., 1., 1., 0., 0., 0., 0., 0., 0., 0., 0., 1.,\n",
       "        0., 0., 0., 0., 0., 0., 0., 0., 1., 0., 0., 0., 0., 0., 0., 0., 1.,\n",
       "        0., 1., 0., 0., 0., 0., 0., 0.], dtype=float32),\n",
       " (433,))"
      ]
     },
     "execution_count": 14,
     "metadata": {},
     "output_type": "execute_result"
    }
   ],
   "source": [
    "obs, obs.shape"
   ]
  },
  {
   "cell_type": "code",
   "execution_count": 15,
   "metadata": {},
   "outputs": [],
   "source": [
    "env.close()\n",
    "\n",
    "del env"
   ]
  },
  {
   "cell_type": "code",
   "execution_count": 16,
   "metadata": {},
   "outputs": [],
   "source": [
    "vec_env = make_vec_env(lambda: make_env(size=7, player_num=2, reward_function_type='1', max_steps=150, punish_on_limit=True), n_envs=64)"
   ]
  },
  {
   "cell_type": "code",
   "execution_count": null,
   "metadata": {},
   "outputs": [],
   "source": [
    "model = A2C(\"MlpPolicy\", vec_env, ent_coef=0.01, verbose=0, tensorboard_log=f\"./logs/test\") # , n_steps=10, learning_rate=1e-5, normalize_advantage=True, use_sde=True\n",
    "\n",
    "model.learn(total_timesteps=600_000_000, log_interval=1) # , log_interval=1_000, reset_num_timesteps=False"
   ]
  },
  {
   "cell_type": "code",
   "execution_count": null,
   "metadata": {},
   "outputs": [],
   "source": [
    "model.save(\"./models/A2C/test.zip\")"
   ]
  },
  {
   "cell_type": "code",
   "execution_count": null,
   "metadata": {},
   "outputs": [],
   "source": [
    "vec_env.close()"
   ]
  },
  {
   "cell_type": "code",
   "execution_count": 3,
   "metadata": {},
   "outputs": [
    {
     "name": "stdout",
     "output_type": "stream",
     "text": [
      "* Loading configs for running from ./configs/test/run.yaml\n",
      "*\n",
      "* Loaded configs from the file are:\n",
      "{'A2C': {'make_env': {'render_mode': 'human', 'max_movements': 100, 'return_obs_type': 'partial obs', 'reward_function_type': '1', 'reward_function': None, 'size': '(7, 7)', 'orb_num': 5, 'pit_num': 5, 'players_num': 2, 'seed': None, 'onehot_obs': True, 'norm_obs': False, 'num_stack': None}, 'model_file_name': 'test.zip', 'gif_file_name': 'test.gif', 'max_steps': 500, 'fps': None, 'deterministic_action_choice': False, 'print_rewards': True, 'return_frames': True}}\n",
      "\n",
      "Total Rewards: -0.1000, Current Reward: -0.1000\n",
      "Total Rewards: -0.2000, Current Reward: -0.1000\n",
      "Total Rewards: -0.3000, Current Reward: -0.1000\n",
      "Total Rewards: -0.3000, Current Reward: 0.0000\n",
      "Total Rewards: -0.4000, Current Reward: -0.1000\n",
      "Total Rewards: -0.5000, Current Reward: -0.1000\n",
      "Total Rewards: -0.6000, Current Reward: -0.1000\n",
      "Total Rewards: -0.7000, Current Reward: -0.1000\n",
      "Total Rewards: -0.8000, Current Reward: -0.1000\n",
      "Total Rewards: -0.9000, Current Reward: -0.1000\n",
      "Total Rewards: -1.0000, Current Reward: -0.1000\n",
      "Total Rewards: -1.1000, Current Reward: -0.1000\n",
      "Total Rewards: -1.2000, Current Reward: -0.1000\n",
      "Total Rewards: -1.3000, Current Reward: -0.1000\n",
      "Total Rewards: -1.4000, Current Reward: -0.1000\n",
      "Total Rewards: -1.5000, Current Reward: -0.1000\n",
      "Total Rewards: -1.6000, Current Reward: -0.1000\n",
      "Total Rewards: -1.7000, Current Reward: -0.1000\n",
      "Total Rewards: -1.7000, Current Reward: 0.0000\n",
      "Total Rewards: -1.8000, Current Reward: -0.1000\n",
      "Total Rewards: -1.9000, Current Reward: -0.1000\n",
      "Total Rewards: -2.0000, Current Reward: -0.1000\n",
      "Total Rewards: -2.1000, Current Reward: -0.1000\n",
      "Total Rewards: -2.2000, Current Reward: -0.1000\n",
      "Total Rewards: -2.3000, Current Reward: -0.1000\n",
      "Total Rewards: -2.4000, Current Reward: -0.1000\n",
      "Total Rewards: -2.5000, Current Reward: -0.1000\n",
      "Total Rewards: -2.6000, Current Reward: -0.1000\n",
      "Total Rewards: -1.6000, Current Reward: 1.0000\n",
      "Total Rewards: -1.7000, Current Reward: -0.1000\n",
      "Total Rewards: -1.8000, Current Reward: -0.1000\n",
      "Total Rewards: -1.9000, Current Reward: -0.1000\n",
      "Total Rewards: -2.0000, Current Reward: -0.1000\n",
      "Total Rewards: -1.0000, Current Reward: 1.0000\n",
      "Total Rewards: -1.1000, Current Reward: -0.1000\n",
      "Total Rewards: -1.2000, Current Reward: -0.1000\n",
      "Total Rewards: -1.3000, Current Reward: -0.1000\n",
      "Total Rewards: -1.4000, Current Reward: -0.1000\n",
      "Total Rewards: -1.5000, Current Reward: -0.1000\n",
      "Total Rewards: -1.6000, Current Reward: -0.1000\n",
      "Total Rewards: -1.6000, Current Reward: 0.0000\n",
      "Total Rewards: -1.6000, Current Reward: 0.0000\n",
      "Total Rewards: -1.7000, Current Reward: -0.1000\n",
      "Total Rewards: -1.8000, Current Reward: -0.1000\n",
      "Total Rewards: -1.9000, Current Reward: -0.1000\n",
      "Total Rewards: -2.0000, Current Reward: -0.1000\n",
      "Total Rewards: -2.1000, Current Reward: -0.1000\n",
      "Total Rewards: -2.2000, Current Reward: -0.1000\n",
      "Total Rewards: -2.3000, Current Reward: -0.1000\n",
      "Total Rewards: -1.3000, Current Reward: 1.0000\n",
      "Total Rewards: -1.4000, Current Reward: -0.1000\n",
      "Total Rewards: -1.5000, Current Reward: -0.1000\n",
      "Total Rewards: -1.6000, Current Reward: -0.1000\n",
      "Total Rewards: -1.7000, Current Reward: -0.1000\n",
      "Total Rewards: -1.8000, Current Reward: -0.1000\n",
      "Total Rewards: -1.9000, Current Reward: -0.1000\n",
      "Total Rewards: -2.0000, Current Reward: -0.1000\n",
      "Total Rewards: -2.1000, Current Reward: -0.1000\n",
      "Total Rewards: -1.1000, Current Reward: 1.0000\n",
      "Total Rewards: -1.2000, Current Reward: -0.1000\n",
      "Total Rewards: -1.3000, Current Reward: -0.1000\n",
      "Total Rewards: -1.4000, Current Reward: -0.1000\n",
      "Total Rewards: -1.5000, Current Reward: -0.1000\n",
      "Total Rewards: -1.6000, Current Reward: -0.1000\n",
      "Total Rewards: -1.7000, Current Reward: -0.1000\n",
      "Total Rewards: -1.8000, Current Reward: -0.1000\n",
      "Total Rewards: -1.9000, Current Reward: -0.1000\n",
      "Total Rewards: -2.0000, Current Reward: -0.1000\n",
      "Total Rewards: -2.1000, Current Reward: -0.1000\n",
      "Total Rewards: -2.2000, Current Reward: -0.1000\n",
      "Total Rewards: -2.3000, Current Reward: -0.1000\n",
      "Total Rewards: -2.4000, Current Reward: -0.1000\n",
      "Total Rewards: -2.5000, Current Reward: -0.1000\n",
      "Total Rewards: -2.6000, Current Reward: -0.1000\n",
      "Total Rewards: -2.6000, Current Reward: 0.0000\n",
      "Total Rewards: -2.7000, Current Reward: -0.1000\n",
      "Total Rewards: -2.8000, Current Reward: -0.1000\n",
      "Total Rewards: -2.9000, Current Reward: -0.1000\n",
      "Total Rewards: -3.0000, Current Reward: -0.1000\n",
      "Total Rewards: -3.1000, Current Reward: -0.1000\n",
      "Total Rewards: -3.2000, Current Reward: -0.1000\n",
      "Total Rewards: -3.3000, Current Reward: -0.1000\n",
      "Total Rewards: -3.4000, Current Reward: -0.1000\n",
      "Total Rewards: -3.5000, Current Reward: -0.1000\n",
      "Total Rewards: -2.5000, Current Reward: 1.0000\n",
      "One episode is done with (player0 having done 26 movements) (player1 having done 29 movements) \n",
      "\n",
      "Total rewards were: -2.5000000000000053\n",
      "Final info: {'filled pits#': 5, 'all pits#': 5, 'player0 movements#': 26, 'player1 movements#': 29}\n",
      "The episode was fps: 102\n",
      "The episode length was: 85\n",
      "\n",
      ".gif file saved to: ./gifs\\test.gif\n"
     ]
    }
   ],
   "source": [
    "!python . -r \"./configs/test/run.yaml\""
   ]
  },
  {
   "cell_type": "code",
   "execution_count": null,
   "metadata": {},
   "outputs": [],
   "source": []
  }
 ],
 "metadata": {
  "kernelspec": {
   "display_name": "Python 3.10.10 ('pt_env')",
   "language": "python",
   "name": "python3"
  },
  "language_info": {
   "codemirror_mode": {
    "name": "ipython",
    "version": 3
   },
   "file_extension": ".py",
   "mimetype": "text/x-python",
   "name": "python",
   "nbconvert_exporter": "python",
   "pygments_lexer": "ipython3",
   "version": "3.10.10"
  },
  "orig_nbformat": 4,
  "vscode": {
   "interpreter": {
    "hash": "33ffef3325e3a534c0147e772ed31e50103af8c12a21f8b2f2c8601a52e63a0b"
   }
  }
 },
 "nbformat": 4,
 "nbformat_minor": 2
}
