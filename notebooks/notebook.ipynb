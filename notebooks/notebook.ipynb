{
 "cells": [
  {
   "cell_type": "markdown",
   "metadata": {},
   "source": [
    "# PitsAndOrbs Project"
   ]
  },
  {
   "cell_type": "markdown",
   "metadata": {},
   "source": [
    "## Checking the raw Game"
   ]
  },
  {
   "cell_type": "code",
   "execution_count": null,
   "metadata": {},
   "outputs": [],
   "source": [
    "from game.pits_and_orbs import PitsAndOrbs\n",
    "\n",
    "\n",
    "game = PitsAndOrbs()\n",
    "game.reset_game()\n",
    "\n",
    "game.show_board()"
   ]
  },
  {
   "cell_type": "code",
   "execution_count": null,
   "metadata": {},
   "outputs": [],
   "source": [
    "game.get_obs()"
   ]
  },
  {
   "cell_type": "code",
   "execution_count": null,
   "metadata": {},
   "outputs": [],
   "source": [
    "game.get_info()"
   ]
  },
  {
   "cell_type": "code",
   "execution_count": null,
   "metadata": {},
   "outputs": [],
   "source": [
    "game.step(1)"
   ]
  },
  {
   "cell_type": "code",
   "execution_count": null,
   "metadata": {},
   "outputs": [],
   "source": [
    "game.show_board()"
   ]
  },
  {
   "cell_type": "markdown",
   "metadata": {},
   "source": [
    "## Checking the gym Environment"
   ]
  },
  {
   "cell_type": "code",
   "execution_count": null,
   "metadata": {},
   "outputs": [],
   "source": [
    "from environment.pits_and_orbs_env import PitsAndOrbsEnv\n",
    "\n",
    "\n",
    "env = PitsAndOrbsEnv(players_num=2)\n",
    "obs = env.reset()\n",
    "obs"
   ]
  },
  {
   "cell_type": "code",
   "execution_count": null,
   "metadata": {},
   "outputs": [],
   "source": [
    "env.observation_space.sample()"
   ]
  },
  {
   "cell_type": "code",
   "execution_count": null,
   "metadata": {},
   "outputs": [],
   "source": [
    "env.step(0)"
   ]
  },
  {
   "cell_type": "markdown",
   "metadata": {},
   "source": [
    "## Checking the gym Environment Wrapper"
   ]
  },
  {
   "cell_type": "code",
   "execution_count": null,
   "metadata": {},
   "outputs": [],
   "source": [
    "from environment.pits_and_orbs_env import PitsAndOrbsEnv\n",
    "\n",
    "from wrappers.onehot_observation import OnehotObservation\n",
    "\n",
    "\n",
    "env = OnehotObservation(PitsAndOrbsEnv())\n",
    "env.reset()"
   ]
  },
  {
   "cell_type": "markdown",
   "metadata": {},
   "source": [
    "## Implementing Reinforcement Learning Approach"
   ]
  },
  {
   "cell_type": "code",
   "execution_count": null,
   "metadata": {},
   "outputs": [],
   "source": [
    "from stable_baselines3.common.env_util import make_vec_env\n",
    "from stable_baselines3 import A2C\n",
    "\n",
    "from utils import make_env"
   ]
  },
  {
   "cell_type": "code",
   "execution_count": null,
   "metadata": {},
   "outputs": [],
   "source": [
    "env = make_env(size=(7, 7), players_num=2)\n",
    "obs = env.reset()"
   ]
  },
  {
   "cell_type": "code",
   "execution_count": null,
   "metadata": {},
   "outputs": [],
   "source": [
    "obs, obs.shape"
   ]
  },
  {
   "cell_type": "code",
   "execution_count": null,
   "metadata": {},
   "outputs": [],
   "source": [
    "env.close()\n",
    "\n",
    "del env"
   ]
  },
  {
   "cell_type": "code",
   "execution_count": null,
   "metadata": {},
   "outputs": [],
   "source": [
    "vec_env = make_vec_env(lambda: make_env(size=(7, 7), players_num=2, max_movements=40, reward_function_type='1', max_steps=150, punish_on_limit=True), n_envs=64)"
   ]
  },
  {
   "cell_type": "code",
   "execution_count": null,
   "metadata": {},
   "outputs": [],
   "source": [
    "model = A2C.load(\"./models/A2C/170mil+18mil+35mil+13mil+31mil.zip\")\n",
    "model.set_env(vec_env)\n",
    "model.ent_coef = 0.\n",
    "# model = A2C(\"MlpPolicy\", vec_env, ent_coef=0.01, verbose=0, tensorboard_log=f\"./logs/test\") # , n_steps=10, learning_rate=1e-5, normalize_advantage=True, use_sde=True\n",
    "\n",
    "model.learn(total_timesteps=600_000_000, log_interval=1) # , log_interval=1_000, reset_num_timesteps=False"
   ]
  },
  {
   "cell_type": "code",
   "execution_count": null,
   "metadata": {},
   "outputs": [],
   "source": [
    "model.save(\"./models/A2C/test.zip\")"
   ]
  },
  {
   "cell_type": "code",
   "execution_count": null,
   "metadata": {},
   "outputs": [],
   "source": [
    "vec_env.close()"
   ]
  },
  {
   "cell_type": "code",
   "execution_count": 3,
   "metadata": {},
   "outputs": [
    {
     "name": "stdout",
     "output_type": "stream",
     "text": [
      "* Loading configs for running from ./configs/test/run.yaml\n",
      "*\n",
      "* Loaded configs from the file are:\n",
      "{'A2C': {'make_env': {'render_mode': 'human', 'max_movements': 100, 'return_obs_type': 'partial obs', 'reward_function_type': '1', 'reward_function': None, 'size': '(7, 7)', 'orb_num': 5, 'pit_num': 5, 'players_num': 2, 'seed': None, 'onehot_obs': True, 'norm_obs': False, 'num_stack': None}, 'model_file_name': 'test.zip', 'gif_file_name': 'test.gif', 'max_steps': 500, 'fps': None, 'deterministic_action_choice': False, 'print_rewards': True, 'return_frames': True}}\n",
      "\n",
      "Total Rewards: -0.1000, Current Reward: -0.1000\n",
      "Total Rewards: -0.2000, Current Reward: -0.1000\n",
      "Total Rewards: -0.3000, Current Reward: -0.1000\n",
      "Total Rewards: -0.3000, Current Reward: 0.0000\n",
      "Total Rewards: -0.4000, Current Reward: -0.1000\n",
      "Total Rewards: -0.5000, Current Reward: -0.1000\n",
      "Total Rewards: -0.6000, Current Reward: -0.1000\n",
      "Total Rewards: -0.7000, Current Reward: -0.1000\n",
      "Total Rewards: -0.8000, Current Reward: -0.1000\n",
      "Total Rewards: -0.9000, Current Reward: -0.1000\n",
      "Total Rewards: -1.0000, Current Reward: -0.1000\n",
      "Total Rewards: -1.1000, Current Reward: -0.1000\n",
      "Total Rewards: -1.2000, Current Reward: -0.1000\n",
      "Total Rewards: -1.3000, Current Reward: -0.1000\n",
      "Total Rewards: -1.4000, Current Reward: -0.1000\n",
      "Total Rewards: -1.5000, Current Reward: -0.1000\n",
      "Total Rewards: -1.6000, Current Reward: -0.1000\n",
      "Total Rewards: -1.7000, Current Reward: -0.1000\n",
      "Total Rewards: -1.7000, Current Reward: 0.0000\n",
      "Total Rewards: -1.8000, Current Reward: -0.1000\n",
      "Total Rewards: -1.9000, Current Reward: -0.1000\n",
      "Total Rewards: -2.0000, Current Reward: -0.1000\n",
      "Total Rewards: -2.1000, Current Reward: -0.1000\n",
      "Total Rewards: -2.2000, Current Reward: -0.1000\n",
      "Total Rewards: -2.3000, Current Reward: -0.1000\n",
      "Total Rewards: -2.4000, Current Reward: -0.1000\n",
      "Total Rewards: -2.5000, Current Reward: -0.1000\n",
      "Total Rewards: -2.6000, Current Reward: -0.1000\n",
      "Total Rewards: -1.6000, Current Reward: 1.0000\n",
      "Total Rewards: -1.7000, Current Reward: -0.1000\n",
      "Total Rewards: -1.8000, Current Reward: -0.1000\n",
      "Total Rewards: -1.9000, Current Reward: -0.1000\n",
      "Total Rewards: -2.0000, Current Reward: -0.1000\n",
      "Total Rewards: -1.0000, Current Reward: 1.0000\n",
      "Total Rewards: -1.1000, Current Reward: -0.1000\n",
      "Total Rewards: -1.2000, Current Reward: -0.1000\n",
      "Total Rewards: -1.3000, Current Reward: -0.1000\n",
      "Total Rewards: -1.4000, Current Reward: -0.1000\n",
      "Total Rewards: -1.5000, Current Reward: -0.1000\n",
      "Total Rewards: -1.6000, Current Reward: -0.1000\n",
      "Total Rewards: -1.6000, Current Reward: 0.0000\n",
      "Total Rewards: -1.6000, Current Reward: 0.0000\n",
      "Total Rewards: -1.7000, Current Reward: -0.1000\n",
      "Total Rewards: -1.8000, Current Reward: -0.1000\n",
      "Total Rewards: -1.9000, Current Reward: -0.1000\n",
      "Total Rewards: -2.0000, Current Reward: -0.1000\n",
      "Total Rewards: -2.1000, Current Reward: -0.1000\n",
      "Total Rewards: -2.2000, Current Reward: -0.1000\n",
      "Total Rewards: -2.3000, Current Reward: -0.1000\n",
      "Total Rewards: -1.3000, Current Reward: 1.0000\n",
      "Total Rewards: -1.4000, Current Reward: -0.1000\n",
      "Total Rewards: -1.5000, Current Reward: -0.1000\n",
      "Total Rewards: -1.6000, Current Reward: -0.1000\n",
      "Total Rewards: -1.7000, Current Reward: -0.1000\n",
      "Total Rewards: -1.8000, Current Reward: -0.1000\n",
      "Total Rewards: -1.9000, Current Reward: -0.1000\n",
      "Total Rewards: -2.0000, Current Reward: -0.1000\n",
      "Total Rewards: -2.1000, Current Reward: -0.1000\n",
      "Total Rewards: -1.1000, Current Reward: 1.0000\n",
      "Total Rewards: -1.2000, Current Reward: -0.1000\n",
      "Total Rewards: -1.3000, Current Reward: -0.1000\n",
      "Total Rewards: -1.4000, Current Reward: -0.1000\n",
      "Total Rewards: -1.5000, Current Reward: -0.1000\n",
      "Total Rewards: -1.6000, Current Reward: -0.1000\n",
      "Total Rewards: -1.7000, Current Reward: -0.1000\n",
      "Total Rewards: -1.8000, Current Reward: -0.1000\n",
      "Total Rewards: -1.9000, Current Reward: -0.1000\n",
      "Total Rewards: -2.0000, Current Reward: -0.1000\n",
      "Total Rewards: -2.1000, Current Reward: -0.1000\n",
      "Total Rewards: -2.2000, Current Reward: -0.1000\n",
      "Total Rewards: -2.3000, Current Reward: -0.1000\n",
      "Total Rewards: -2.4000, Current Reward: -0.1000\n",
      "Total Rewards: -2.5000, Current Reward: -0.1000\n",
      "Total Rewards: -2.6000, Current Reward: -0.1000\n",
      "Total Rewards: -2.6000, Current Reward: 0.0000\n",
      "Total Rewards: -2.7000, Current Reward: -0.1000\n",
      "Total Rewards: -2.8000, Current Reward: -0.1000\n",
      "Total Rewards: -2.9000, Current Reward: -0.1000\n",
      "Total Rewards: -3.0000, Current Reward: -0.1000\n",
      "Total Rewards: -3.1000, Current Reward: -0.1000\n",
      "Total Rewards: -3.2000, Current Reward: -0.1000\n",
      "Total Rewards: -3.3000, Current Reward: -0.1000\n",
      "Total Rewards: -3.4000, Current Reward: -0.1000\n",
      "Total Rewards: -3.5000, Current Reward: -0.1000\n",
      "Total Rewards: -2.5000, Current Reward: 1.0000\n",
      "One episode is done with (player0 having done 26 movements) (player1 having done 29 movements) \n",
      "\n",
      "Total rewards were: -2.5000000000000053\n",
      "Final info: {'filled pits#': 5, 'all pits#': 5, 'player0 movements#': 26, 'player1 movements#': 29}\n",
      "The episode was fps: 102\n",
      "The episode length was: 85\n",
      "\n",
      ".gif file saved to: ./gifs\\test.gif\n"
     ]
    }
   ],
   "source": [
    "!python . -r \"./configs/test/run.yaml\""
   ]
  },
  {
   "cell_type": "code",
   "execution_count": null,
   "metadata": {},
   "outputs": [],
   "source": []
  }
 ],
 "metadata": {
  "kernelspec": {
   "display_name": "pt_env",
   "language": "python",
   "name": "pt_env"
  },
  "language_info": {
   "codemirror_mode": {
    "name": "ipython",
    "version": 3
   },
   "file_extension": ".py",
   "mimetype": "text/x-python",
   "name": "python",
   "nbconvert_exporter": "python",
   "pygments_lexer": "ipython3",
   "version": "3.10.10"
  },
  "orig_nbformat": 4,
  "vscode": {
   "interpreter": {
    "hash": "dd007ac3b45ff6a667b1025d767f59ded49e869e4dbd8cb641dd50277aed6055"
   }
  }
 },
 "nbformat": 4,
 "nbformat_minor": 2
}
