{
 "cells": [
  {
   "cell_type": "code",
   "execution_count": 6,
   "metadata": {},
   "outputs": [],
   "source": [
    "from utils import make_env\n",
    "\n",
    "from rl.agent import Agent"
   ]
  },
  {
   "cell_type": "code",
   "execution_count": 7,
   "metadata": {},
   "outputs": [
    {
     "data": {
      "text/plain": [
       "OrderedDict([('board',\n",
       "              array([[0, 0, 0, 0, 2, 0, 0],\n",
       "                     [0, 0, 0, 0, 0, 1, 0],\n",
       "                     [0, 0, 0, 0, 2, 0, 0],\n",
       "                     [0, 0, 0, 0, 0, 0, 0],\n",
       "                     [0, 0, 0, 0, 0, 0, 0],\n",
       "                     [0, 0, 0, 0, 0, 0, 0],\n",
       "                     [0, 0, 0, 0, 0, 0, 0]], dtype=uint8)),\n",
       "             ('player0_movements', 0),\n",
       "             ('player0_direction', 0),\n",
       "             ('player0_has_orb', 0),\n",
       "             ('player0_position', array([1, 5], dtype=uint8)),\n",
       "             ('filled_pits_positions',\n",
       "              array([[7, 7],\n",
       "                     [7, 7],\n",
       "                     [7, 7],\n",
       "                     [7, 7],\n",
       "                     [7, 7]], dtype=uint8))])"
      ]
     },
     "execution_count": 7,
     "metadata": {},
     "output_type": "execute_result"
    }
   ],
   "source": [
    "env = make_env(render_mode=\"human\", size=7, player_num=2, team_num=2, max_movements=40, onehot_obs=None, norm_obs=None, concat_obs=None, self_play_wrapper=True)\n",
    "env.reset()"
   ]
  },
  {
   "cell_type": "code",
   "execution_count": 8,
   "metadata": {},
   "outputs": [],
   "source": [
    "agent1 = Agent()\n",
    "agent1.convert_rules_to_model(rule_type=\"1v1\")\n",
    "\n",
    "agent2 = Agent()\n",
    "agent2.convert_rules_to_model(rule_type=\"1v1\")\n",
    "\n",
    "env.set_opponent_model(agent2.model)"
   ]
  },
  {
   "cell_type": "code",
   "execution_count": 11,
   "metadata": {},
   "outputs": [
    {
     "name": "stdout",
     "output_type": "stream",
     "text": [
      "Total Rewards: 4.0000, Current Reward: 2.0000, Taken Action: 3\n",
      "One episode is done with (team0_player0 having done 29 movements) (team1_player0 having done 30 movements) \n",
      "\n",
      "Final Info: {'all_pits#': 5, 'total_filled_pits#': 5, 'team0_filled_pits#': 3, 'team1_filled_pits#': 2, 'team0_player0_movements#': 29, 'team1_player0_movements#': 30}\n",
      "Episode Length: 99\n",
      "\n",
      "Episode FPS 50\n"
     ]
    }
   ],
   "source": [
    "rewards, frames = agent1.run_agent_one_episode(env)"
   ]
  },
  {
   "cell_type": "code",
   "execution_count": 13,
   "metadata": {},
   "outputs": [],
   "source": [
    "env.close()"
   ]
  },
  {
   "cell_type": "code",
   "execution_count": 12,
   "metadata": {},
   "outputs": [],
   "source": [
    "Agent.create_gif(frames, \"./gifs/test.gif\")"
   ]
  }
 ],
 "metadata": {
  "kernelspec": {
   "display_name": "Python 3.10.10 ('pt_env')",
   "language": "python",
   "name": "python3"
  },
  "language_info": {
   "codemirror_mode": {
    "name": "ipython",
    "version": 3
   },
   "file_extension": ".py",
   "mimetype": "text/x-python",
   "name": "python",
   "nbconvert_exporter": "python",
   "pygments_lexer": "ipython3",
   "version": "3.10.10"
  },
  "orig_nbformat": 4,
  "vscode": {
   "interpreter": {
    "hash": "33ffef3325e3a534c0147e772ed31e50103af8c12a21f8b2f2c8601a52e63a0b"
   }
  }
 },
 "nbformat": 4,
 "nbformat_minor": 2
}
